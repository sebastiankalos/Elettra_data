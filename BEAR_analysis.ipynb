{
 "cells": [
  {
   "cell_type": "code",
   "execution_count": 2,
   "metadata": {},
   "outputs": [],
   "source": [
    "#load libraries\n",
    "import numpy as np\n",
    "from matplotlib import pyplot as plt \n",
    "import pandas as pd\n",
    "import re"
   ]
  },
  {
   "cell_type": "code",
   "execution_count": 24,
   "metadata": {},
   "outputs": [],
   "source": [
    "#some cheezy global Variables here (don't kill me Daniel!)\n",
    "file_number_signal = 2 #the file number corresponding to a scan\n",
    "file_number_dark_20nA = 4\n",
    "file_number_dark_200pA = 5\n",
    "file_number_photodiode = 14\n",
    "file_number_photodiode_200pA_200pA = 17 #dark signal file number, with Kiethley-A and Kiethley-B sensitivity valuse, respectively\n",
    "regs_per_sample = 7 #number of regions per sample\n",
    "region_sensitivities = [\"200pA\", \"200pA\", \"200pA\", \"200pA\", \"200pA\", \"20nA\", \"20nA\"] #an ordered list with current sensitivities of photon energy regions!\n",
    "materials = ['Aerodag_SS', 'Graphite_SS', 'ITO_MLI', 'ITO_Radiator'] #materials in one run, ordered as they were investigated!"
   ]
  },
  {
   "cell_type": "code",
   "execution_count": 4,
   "metadata": {},
   "outputs": [],
   "source": [
    "#This function simply reads the text file with data and extracts data\n",
    "def read_file(filename):\n",
    "    #just declaring a list for each column\n",
    "    rel_t = [] #msec\n",
    "    phot_E = [] #eV\n",
    "    x = [] # Var_1, x spot position\n",
    "    y = [] #Var_2, y spot position\n",
    "    I_sample = [] # INSTR_1, Kiethley B: instrument 1 with sample + bias, current\n",
    "    I_monitor = [] # INSTR_2, Kiethley A, instrument 2 - monitor\n",
    "    I_BPM_sum = [] #sum of BPM current measurements\n",
    "\n",
    "    copy_lines = []\n",
    "    with open (filename, \"r\", encoding='windows-1254') as myfile: #encoding change resolves an error coming from an extra \\n at the end of files\n",
    "        for l in myfile: #read lines until first occurence of a long line\n",
    "            if \"______________________________________________\" in l:\n",
    "                break\n",
    "        for l in myfile: #read the file until the occurence of this long line\n",
    "            if \"______________________________________________\" in l:\n",
    "                break\n",
    "\n",
    "        for l in myfile: #from then on, read all non-empty lines and split them\n",
    "            if l != \"\\n\":\n",
    "                line = l.strip() \n",
    "                line = re.split(r'\\t+', line)\n",
    "                copy_lines.append(line)\n",
    "\n",
    "    #from each line, extract a name/number and append it into its relevant column\n",
    "    for i in range(1,len(copy_lines)-1):\n",
    "        line = copy_lines[i]\n",
    "\n",
    "        rel_t.append(line[0])\n",
    "        phot_E.append(line[1])\n",
    "        x.append(line[2])\n",
    "        y.append(line[3])\n",
    "        I_sample.append(line[4])\n",
    "        I_monitor.append(line[5])\n",
    "        I_BPM_sum.append(line[7])\n",
    "\n",
    "    #extracted values are still strings --> cast numbers to floats\n",
    "    for i in range(0, len(rel_t)):\n",
    "        rel_t[i] = float(rel_t[i])\n",
    "        phot_E[i] = float(phot_E[i])\n",
    "        x[i] = float(x[i])\n",
    "        y[i] = float(y[i])\n",
    "        I_sample[i] = float(I_sample[i])\n",
    "        I_monitor[i] = float(I_monitor[i])\n",
    "        I_BPM_sum[i] = float(I_BPM_sum[i])\n",
    "    \n",
    "    return([rel_t, phot_E, x, y, I_sample, I_monitor, I_BPM_sum])"
   ]
  },
  {
   "cell_type": "code",
   "execution_count": 5,
   "metadata": {},
   "outputs": [],
   "source": [
    "def get_region_df(reg_filename, reg_number, material_name):\n",
    "    # function that takes a filename (textfile that should contain BEAR data with a single region), the region number and material name, and outputs a dataframe with the data\n",
    "    reg = read_file(reg_filename) #call the readfile function (defined above) and store real time, photon energy, beamspot coordinates (x,y), and current readings (sample, monitor, BPM sum)\n",
    "    #organize the data into the dataframe and return it\n",
    "    reg_data = {'rel_t': reg[0], 'phot_E': reg[1], 'x': reg[2], 'y': reg[3], 'I_sample': reg[4], 'I_monitor' : reg[5], 'I_BPM_sum': reg[6], 'reg_number': reg_number, 'material_name': material_name}\n",
    "    reg_df = pd.DataFrame(data=reg_data)\n",
    "    return(reg_df)"
   ]
  },
  {
   "cell_type": "code",
   "execution_count": 26,
   "metadata": {},
   "outputs": [],
   "source": [
    "def concate_data(materials, regs_per_sample, file_number):\n",
    "    if materials[0] == \"dark\" or \"photodiode_dark\": #for dark offsets, we use a single file, not regionwise\n",
    "        df = get_region_df(f\"/Users/sebastiankalos/Documents/Moondust/Elettra_data/20210802_arneodo/file(1)\" + \"{:04d}\".format(file_number) + \".txt\", 0, \"no material (dark)\")\n",
    "        return(df)\n",
    "    else:\n",
    "        all_run_regions = []\n",
    "        for j in range(0,len(materials)): #for each material\n",
    "            material_name = materials[j] #copy name of the material\n",
    "            \n",
    "            for i in range(regs_per_sample * j + 1, regs_per_sample * (j+1) +1): #for each region corresponding to this material (note the region numering!)\n",
    "                \n",
    "                #read the corresponding textfile and extract its data into a dataframe using a function defined above\n",
    "                if materials[0] == \"photodiode\": #for photodiode readings\n",
    "                    append_this = get_region_df(f\"/Users/sebastiankalos/Documents/Moondust/Elettra_data/20210802_arneodo/file(1)_Region {i}__\" + \"{:04d}\".format(file_number) + \".txt\",i, material_name)\n",
    "                    all_run_regions.append(append_this)\n",
    "\n",
    "                else: #for normal signal readings\n",
    "                    append_this = get_region_df(f\"/Users/sebastiankalos/Documents/Moondust/Elettra_data/20210802_arneodo/file(1)_Region {i}__\" + \"{:04d}\".format(file_number) + \".txt\",i, material_name) \n",
    "                    all_run_regions.append(append_this) #append the dataframe to others\n",
    "\n",
    "        df = pd.concat(all_run_regions, ignore_index=True, sort=False) #combine all region and material dataframes into a single large one, without sorting (done separately later)\n",
    "    return(df)"
   ]
  },
  {
   "cell_type": "code",
   "execution_count": 45,
   "metadata": {},
   "outputs": [],
   "source": [
    "#create signal dataframes:\n",
    "df_signal = concate_data(materials, regs_per_sample, file_number_signal)\n",
    "\n",
    "#create dark signal dataframes:\n",
    "df_dark_20nA = concate_data([\"dark\"], regs_per_sample, file_number_dark_20nA)\n",
    "df_dark_200pA = concate_data([\"dark\"], regs_per_sample, file_number_dark_200pA)\n",
    "\n",
    "# create photodiode signal dataframe\n",
    "df_photodiode = concate_data([\"photodiode\"], regs_per_sample, file_number_photodiode)\n",
    "\n",
    "# get photodiode dark signal dataframes (for different sensitivity settings)\n",
    "df_photodiode_dark_200pA_200pA = concate_data([\"photodiode_dark\"], regs_per_sample, file_number_photodiode_200pA_200pA)"
   ]
  },
  {
   "cell_type": "code",
   "execution_count": 46,
   "metadata": {},
   "outputs": [
    {
     "data": {
      "text/plain": [
       "[<matplotlib.lines.Line2D at 0x7fdae853ccc0>]"
      ]
     },
     "execution_count": 46,
     "metadata": {},
     "output_type": "execute_result"
    },
    {
     "data": {
      "image/png": "[encoded data removed]",
      "text/plain": [
       "<Figure size 864x288 with 2 Axes>"
      ]
     },
     "metadata": {
      "needs_background": "light"
     },
     "output_type": "display_data"
    }
   ],
   "source": [
    "fig, (plt1, plt2) = plt.subplots(1, 2, figsize=(12, 4)) #initialize a double plot\n",
    "plt1.plot(df_photodiode_dark_200pA_200pA['phot_E'], df_photodiode_dark_200pA_200pA['I_sample'], '*')\n",
    "plt2.plot(df_photodiode_dark_200pA_200pA['phot_E'], df_photodiode_dark_200pA_200pA['I_monitor'], '*')\n",
    "#plt3.plot(df_photodiode_200pA_200pA['phot_E'], df_photodiode_200pA_200pA['I_BPM'], '*')"
   ]
  },
  {
   "cell_type": "code",
   "execution_count": 9,
   "metadata": {},
   "outputs": [],
   "source": [
    "# dark current offsets:\n",
    "\n",
    "##########\n",
    "#sample current:\n",
    "sample_I_dark_20nA = df_dark_20nA['I_sample'].tolist()\n",
    "sample_I_dark_20nA_offset = sum(sample_I_dark_20nA)/len(sample_I_dark_20nA) \n",
    "\n",
    "sample_I_dark_200pA = df_dark_200pA['I_sample'].tolist()\n",
    "sample_I_dark_200pA_offset = sum(sample_I_dark_200pA)/len(sample_I_dark_200pA) \n",
    "\n",
    "##########\n",
    "#monitor current:\n",
    "monitor_I_dark_20nA = df_dark_20nA['I_monitor'].tolist()\n",
    "monitor_I_dark_20nA_offset = sum(monitor_I_dark_20nA)/len(monitor_I_dark_20nA)\n",
    "\n",
    "monitor_I_dark_200pA = df_dark_200pA['I_monitor'].tolist()\n",
    "monitor_I_dark_200pA_offset = sum(monitor_I_dark_200pA)/len(monitor_I_dark_200pA)\n",
    "\n",
    "##########\n",
    "#BPM current:\n",
    "I_BPM_dark_20nA = df_dark_20nA['I_BPM_sum'].tolist()\n",
    "I_BPM_dark_20nA_offset = sum(I_BPM_dark_20nA)/len(I_BPM_dark_20nA)\n",
    "\n",
    "I_BPM_dark_200pA = df_dark_200pA['I_BPM_sum'].tolist()\n",
    "I_BPM_dark_200pA_offset = sum(I_BPM_dark_200pA)/len(I_BPM_dark_200pA)\n"
   ]
  },
  {
   "cell_type": "code",
   "execution_count": 10,
   "metadata": {},
   "outputs": [],
   "source": [
    "def extract_reg(material_name, reg_number, df, I_sample_offset, I_monitor_offset, I_BPM_offset): #function to extract plotting values for a specific material and region, \n",
    "\n",
    "    criterion1 = df['material_name'] == material_name\n",
    "    criterion2 = df['reg_number'] == reg_number\n",
    "    material_df = df.loc[criterion1 & criterion2]\n",
    "    \n",
    "    sample_I = material_df['I_sample'].tolist()\n",
    "    monitor_I = material_df['I_monitor'].tolist()\n",
    "    phot_E = material_df['phot_E'].tolist()\n",
    "    I_BPM = material_df['I_BPM_sum'].tolist()\n",
    "\n",
    "    #subtract offsets:\n",
    "    sample_I[:] = [val - I_sample_offset for val in sample_I]\n",
    "    monitor_I[:] = [val - I_monitor_offset for val in monitor_I]\n",
    "    I_BPM[:] = [val - I_BPM_offset for val in I_BPM]\n",
    "\n",
    "    #normalize\n",
    "    norm_I_byMonit = [i / j for i, j in zip(sample_I, monitor_I)]\n",
    "    norm_I_byBPM = [i / j for i, j in zip(sample_I, I_BPM)]\n",
    "\n",
    "    return([sample_I, monitor_I, phot_E, I_BPM, norm_I_byMonit, norm_I_byBPM])"
   ]
  },
  {
   "cell_type": "code",
   "execution_count": 18,
   "metadata": {},
   "outputs": [],
   "source": [
    "#dark currents in photodiode measurements were not constant, rather increasing initially and then plateuing --> need to do a fit\n",
    "PHOTODIODE = [] #master list for the Photodiode data\n",
    "for i in range(1, regs_per_sample+1):\n",
    "    PHOTODIODE.append(extract_reg(\"Photodiode\", i, df_photodiode, 0, 0, 0))"
   ]
  },
  {
   "cell_type": "markdown",
   "metadata": {},
   "source": [
    "#The following  needs some explanation. There are several materials, each with numerous regions (that need separate plotting due to normalization), \n",
    "#and each region contains multiple lists with different kinds of data (currents, photon energy, etc.)\n",
    "#to avoid cluttering the code with variables, everything is put into a master-list of multiple dimensions (4, I guess)\n",
    "#data is then accessed and plotted with simple indexing"
   ]
  },
  {
   "cell_type": "code",
   "execution_count": 19,
   "metadata": {},
   "outputs": [],
   "source": [
    "MATERIALS = [] #Master multi-dimension list\n",
    "\n",
    "count = 1\n",
    "for material_name in materials: #for each material name in the list (among globals!)\n",
    "    MAT = []\n",
    "    for i in range(count, count+regs_per_sample):\n",
    "        if region_sensitivities[count % regs_per_sample] == \"20nA\":\n",
    "            MAT.append(extract_reg(material_name, i, df_signal, sample_I_dark_20nA_offset, monitor_I_dark_20nA_offset, I_BPM_dark_20nA_offset))\n",
    "        elif region_sensitivities[count % regs_per_sample] == \"200pA\":\n",
    "            MAT.append(extract_reg(material_name, i, df_signal, sample_I_dark_200pA_offset, monitor_I_dark_200pA_offset, I_BPM_dark_200pA_offset))\n",
    "    MATERIALS.append(MAT)\n",
    "    count += regs_per_sample\n"
   ]
  },
  {
   "cell_type": "code",
   "execution_count": 20,
   "metadata": {},
   "outputs": [
    {
     "data": {
      "text/plain": [
       "(0.0, 5)"
      ]
     },
     "execution_count": 20,
     "metadata": {},
     "output_type": "execute_result"
    },
    {
     "data": {
      "image/png": "[encoded data removed]",
      "text/plain": [
       "<Figure size 432x288 with 1 Axes>"
      ]
     },
     "metadata": {
      "needs_background": "light"
     },
     "output_type": "display_data"
    }
   ],
   "source": [
    "marker = 'o'\n",
    "\n",
    "# plot options for xvals and yvals:\n",
    "# 0 --> sample_I\n",
    "# 1 --> monitor_I\n",
    "# 2 --> phot_E\n",
    "# 3 --> I_BPM\n",
    "# 4 --> norm_I_byMonit\n",
    "# 5 --> norm_I_byBPM\n",
    "\n",
    "x_choice = 2\n",
    "y_choice = 4\n",
    "\n",
    "material_index = 0\n",
    "\n",
    "for region_n in range(0, regs_per_sample):\n",
    "    plt.plot(MATERIALS[material_index][region_n][x_choice], MATERIALS[material_index][region_n][y_choice], marker)\n",
    "    plt.title(materials[material_index])\n",
    "\n",
    "plt.xlabel('eV')\n",
    "plt.gca().set_ylim(bottom=0)\n",
    "plt.gca().set_ylim(top=5)\n"
   ]
  },
  {
   "cell_type": "code",
   "execution_count": 21,
   "metadata": {},
   "outputs": [],
   "source": [
    "def convert_eV_to_wavelength(energy_eV_list):\n",
    "    eV = 1.602*10e-19 #Joule\n",
    "    h = 6.62607004*10e-34 #J*s\n",
    "    c = 3*10e8 #m/s'\n",
    "    wavelength_list = []\n",
    "    for datapoint in energy_eV_list:\n",
    "        energy_J = datapoint * eV\n",
    "        wavelength_list.append(h*c/energy_J/(10e-9)) #in nm\n",
    "    return(wavelength_list)"
   ]
  },
  {
   "cell_type": "code",
   "execution_count": 22,
   "metadata": {},
   "outputs": [],
   "source": [
    "#Work function values extrapolated from Modena measurements\n",
    "ITO_WF = 3.95 #eV\n",
    "Graphite_WF = 4.21 #eV\n",
    "Aerodag_WF = 3.45"
   ]
  },
  {
   "cell_type": "code",
   "execution_count": 23,
   "metadata": {},
   "outputs": [
    {
     "data": {
      "text/plain": [
       "<matplotlib.legend.Legend at 0x7fdb08d1d048>"
      ]
     },
     "execution_count": 23,
     "metadata": {},
     "output_type": "execute_result"
    },
    {
     "data": {
      "image/png": "[encoded data removed]",
      "text/plain": [
       "<Figure size 432x288 with 1 Axes>"
      ]
     },
     "metadata": {
      "needs_background": "light"
     },
     "output_type": "display_data"
    }
   ],
   "source": [
    "marker = 'o'\n",
    "\n",
    "# plot options for xvals and yvals:\n",
    "# 0 --> sample_I\n",
    "# 1 --> monitor_I\n",
    "# 2 --> phot_E\n",
    "# 3 --> I_BPM\n",
    "# 4 --> norm_I_byMonit\n",
    "# 5 --> norm_I_byBPM\n",
    "\n",
    "x_choice = 2\n",
    "y_choice = 4\n",
    "\n",
    "material_index = 0\n",
    "\n",
    "for region_n in range(0, regs_per_sample):\n",
    "    plt.plot(convert_eV_to_wavelength(MATERIALS[material_index][region_n][x_choice]), MATERIALS[material_index][region_n][y_choice], marker)\n",
    "    plt.title(materials[material_index])\n",
    "plt.xlabel('nm')\n",
    "plt.gca().set_ylim(bottom=0)\n",
    "plt.gca().set_ylim(top=5)\n",
    "\n",
    "\n",
    "plt.axvline(x=convert_eV_to_wavelength([ITO_WF])[0], color='k', linestyle='--', label=\"ITO WF\")\n",
    "plt.axvline(x=convert_eV_to_wavelength([Graphite_WF])[0], color='r', linestyle='--', label=\"Graphite WF\")\n",
    "plt.axvline(x=convert_eV_to_wavelength([Aerodag_WF])[0], linestyle='--', label=\"Aerodag WF\")\n",
    "plt.legend(loc=\"lower left\")"
   ]
  },
  {
   "cell_type": "code",
   "execution_count": 16,
   "metadata": {},
   "outputs": [
    {
     "data": {
      "text/plain": [
       "<matplotlib.legend.Legend at 0x7fdad88e6908>"
      ]
     },
     "execution_count": 16,
     "metadata": {},
     "output_type": "execute_result"
    },
    {
     "data": {
      "image/png": "[encoded data removed]",
      "text/plain": [
       "<Figure size 432x288 with 1 Axes>"
      ]
     },
     "metadata": {
      "needs_background": "light"
     },
     "output_type": "display_data"
    }
   ],
   "source": [
    "# load photodiode responsivity from a textfile:\n",
    "lambda_nm, responsivity = [],[] #responsivity in Amperes per Watt!\n",
    "\n",
    "filename = \"/Users/sebastiankalos/Documents/Moondust/Elettra_data/sxuv_responsivity.txt\"\n",
    "startline = 3\n",
    "\n",
    "copy_lines=[]\n",
    "with open(filename) as f:\n",
    "    lines = f.readlines()\n",
    "\n",
    "for line in lines:\n",
    "    split_line = line.split()\n",
    "    copy_lines.append(split_line)\n",
    "\n",
    "    #from each line, extract a name/number and append it into its relevant column\n",
    "for i in range(startline-1,len(copy_lines)-1):\n",
    "    line = copy_lines[i]\n",
    "\n",
    "    lambda_nm.append(line[0])\n",
    "    responsivity.append(line[1])\n",
    "\n",
    "    #extracted values are still strings --> cast numbers to floats\n",
    "for i in range(0, len(lambda_nm)):\n",
    "    lambda_nm[i] = float(lambda_nm[i])\n",
    "    responsivity[i] = float(responsivity[i])\n",
    "\n",
    "plt.plot(lambda_nm, responsivity, 'o')\n",
    "plt.xlabel('wavelength [nm]')\n",
    "plt.ylabel('responsivity [A/W]')\n",
    "plt.title('Photodiode responsivity')\n",
    "\n",
    "lambda_nm_2 = [i for i in lambda_nm if i <= 400]\n",
    "responsivity_2 = responsivity[:len(lambda_nm_2)]\n",
    "\n",
    "f = np.poly1d(np.polyfit(lambda_nm_2, responsivity_2, 6))\n",
    "plt.plot(lambda_nm_2, f(lambda_nm_2), '-', label=\"polyfit\")\n",
    "plt.legend(loc=\"lower right\")\n"
   ]
  },
  {
   "cell_type": "code",
   "execution_count": null,
   "metadata": {},
   "outputs": [],
   "source": []
  }
 ],
 "metadata": {
  "interpreter": {
   "hash": "1f2c39529b1604d40be6882bfc5b43608b925cbe6ed5fa36b901587200ca9481"
  },
  "kernelspec": {
   "display_name": "Python 3.7.3 64-bit ('anaconda3': conda)",
   "name": "python3"
  },
  "language_info": {
   "codemirror_mode": {
    "name": "ipython",
    "version": 3
   },
   "file_extension": ".py",
   "mimetype": "text/x-python",
   "name": "python",
   "nbconvert_exporter": "python",
   "pygments_lexer": "ipython3",
   "version": "3.7.3"
  }
 },
 "nbformat": 4,
 "nbformat_minor": 4
}